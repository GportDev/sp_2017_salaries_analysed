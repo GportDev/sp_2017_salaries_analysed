{
 "cells": [
  {
   "cell_type": "markdown",
   "metadata": {},
   "source": [
    "# PT-BR\n",
    "\n",
    "## Análise dos salários dos fucionários públicos do estado de São Paulo em Outubro de 2017\n",
    "\n",
    "Esse é um estudo introdutório com o único intuito de treinar minhas habilidades pessoais de análise de dados utilizando dataframes disponíveis no site Keggle. Este em questão foi feito por Luiz Gustavo Modelli e está disponível em sua totalidade em: https://www.kaggle.com/gustavomodelli/monthly-salary-of-public-worker-in-brazil\n",
    "\n",
    "Utilizei apenas 1000 linhas dentre as disponíveis no dataframe como amostra e fiz os métodos que achei mais adequados para a apresentação dos mesmos.\n",
    "\n",
    "Lembro que a utilização de qualquer uma das análises deste documento deverá mencionar o autor do mesmo."
   ]
  },
  {
   "cell_type": "code",
   "execution_count": 94,
   "metadata": {},
   "outputs": [],
   "source": [
    "import numpy as np\n",
    "import pandas as pd\n",
    "import matplotlib.pyplot as plt\n",
    "import seaborn as sns\n",
    "%matplotlib inline"
   ]
  },
  {
   "cell_type": "markdown",
   "metadata": {},
   "source": [
    "## Introdução"
   ]
  },
  {
   "cell_type": "markdown",
   "metadata": {},
   "source": [
    "Inicaremos fazendo a leitura do arquivo CSV"
   ]
  },
  {
   "cell_type": "code",
   "execution_count": 95,
   "metadata": {},
   "outputs": [],
   "source": [
    "df = pd.read_csv('D:\\Gabriel\\DM\\Treinamentos\\Análise de dados\\Public_agents_salary\\monthly_salary_brazil.csv', engine= 'python')"
   ]
  },
  {
   "cell_type": "markdown",
   "metadata": {},
   "source": [
    "Agora, trarei os 5 primeiros registros, afim de ver a organização do dataframe"
   ]
  },
  {
   "cell_type": "code",
   "execution_count": 96,
   "metadata": {},
   "outputs": [
    {
     "data": {
      "text/html": [
       "<div>\n",
       "<style scoped>\n",
       "    .dataframe tbody tr th:only-of-type {\n",
       "        vertical-align: middle;\n",
       "    }\n",
       "\n",
       "    .dataframe tbody tr th {\n",
       "        vertical-align: top;\n",
       "    }\n",
       "\n",
       "    .dataframe thead th {\n",
       "        text-align: right;\n",
       "    }\n",
       "</style>\n",
       "<table border=\"1\" class=\"dataframe\">\n",
       "  <thead>\n",
       "    <tr style=\"text-align: right;\">\n",
       "      <th></th>\n",
       "      <th>Id</th>\n",
       "      <th>job</th>\n",
       "      <th>sector</th>\n",
       "      <th>Month_salary</th>\n",
       "      <th>13_salary</th>\n",
       "      <th>eventual_salary</th>\n",
       "      <th>indemnity</th>\n",
       "      <th>extra_salary</th>\n",
       "      <th>discount_salary</th>\n",
       "      <th>total_salary</th>\n",
       "    </tr>\n",
       "  </thead>\n",
       "  <tbody>\n",
       "    <tr>\n",
       "      <th>0</th>\n",
       "      <td>1</td>\n",
       "      <td>OFICIAL ADMINISTRATIVO</td>\n",
       "      <td>DETRAN</td>\n",
       "      <td>2315.81</td>\n",
       "      <td>0.0</td>\n",
       "      <td>0.0</td>\n",
       "      <td>0.0</td>\n",
       "      <td>73.85</td>\n",
       "      <td>0.0</td>\n",
       "      <td>1929.34</td>\n",
       "    </tr>\n",
       "    <tr>\n",
       "      <th>1</th>\n",
       "      <td>2</td>\n",
       "      <td>SD 2C PM</td>\n",
       "      <td>PM</td>\n",
       "      <td>3034.05</td>\n",
       "      <td>0.0</td>\n",
       "      <td>0.0</td>\n",
       "      <td>0.0</td>\n",
       "      <td>651.82</td>\n",
       "      <td>0.0</td>\n",
       "      <td>2265.96</td>\n",
       "    </tr>\n",
       "    <tr>\n",
       "      <th>2</th>\n",
       "      <td>3</td>\n",
       "      <td>1TEN  PM</td>\n",
       "      <td>PM</td>\n",
       "      <td>8990.98</td>\n",
       "      <td>0.0</td>\n",
       "      <td>0.0</td>\n",
       "      <td>0.0</td>\n",
       "      <td>626.75</td>\n",
       "      <td>0.0</td>\n",
       "      <td>6933.04</td>\n",
       "    </tr>\n",
       "    <tr>\n",
       "      <th>3</th>\n",
       "      <td>4</td>\n",
       "      <td>MAJ   PM</td>\n",
       "      <td>SPPREV</td>\n",
       "      <td>13591.02</td>\n",
       "      <td>0.0</td>\n",
       "      <td>0.0</td>\n",
       "      <td>0.0</td>\n",
       "      <td>0.00</td>\n",
       "      <td>0.0</td>\n",
       "      <td>10568.36</td>\n",
       "    </tr>\n",
       "    <tr>\n",
       "      <th>4</th>\n",
       "      <td>5</td>\n",
       "      <td>AG.TEC. DE ASSIT. A SAUDE</td>\n",
       "      <td>HCFMUSP</td>\n",
       "      <td>4203.67</td>\n",
       "      <td>0.0</td>\n",
       "      <td>0.0</td>\n",
       "      <td>0.0</td>\n",
       "      <td>0.00</td>\n",
       "      <td>0.0</td>\n",
       "      <td>3561.88</td>\n",
       "    </tr>\n",
       "  </tbody>\n",
       "</table>\n",
       "</div>"
      ],
      "text/plain": [
       "   Id                        job   sector  Month_salary  13_salary  \\\n",
       "0   1     OFICIAL ADMINISTRATIVO   DETRAN       2315.81        0.0   \n",
       "1   2                   SD 2C PM       PM       3034.05        0.0   \n",
       "2   3                   1TEN  PM       PM       8990.98        0.0   \n",
       "3   4                   MAJ   PM   SPPREV      13591.02        0.0   \n",
       "4   5  AG.TEC. DE ASSIT. A SAUDE  HCFMUSP       4203.67        0.0   \n",
       "\n",
       "   eventual_salary  indemnity  extra_salary  discount_salary  total_salary  \n",
       "0              0.0        0.0         73.85              0.0       1929.34  \n",
       "1              0.0        0.0        651.82              0.0       2265.96  \n",
       "2              0.0        0.0        626.75              0.0       6933.04  \n",
       "3              0.0        0.0          0.00              0.0      10568.36  \n",
       "4              0.0        0.0          0.00              0.0       3561.88  "
      ]
     },
     "execution_count": 96,
     "metadata": {},
     "output_type": "execute_result"
    }
   ],
   "source": [
    "df.head()"
   ]
  },
  {
   "cell_type": "markdown",
   "metadata": {},
   "source": [
    "Uma das limpezas será apagar as informações duplicadas usando o \"drop_duplicates()\""
   ]
  },
  {
   "cell_type": "code",
   "execution_count": 97,
   "metadata": {},
   "outputs": [
    {
     "data": {
      "text/html": [
       "<div>\n",
       "<style scoped>\n",
       "    .dataframe tbody tr th:only-of-type {\n",
       "        vertical-align: middle;\n",
       "    }\n",
       "\n",
       "    .dataframe tbody tr th {\n",
       "        vertical-align: top;\n",
       "    }\n",
       "\n",
       "    .dataframe thead th {\n",
       "        text-align: right;\n",
       "    }\n",
       "</style>\n",
       "<table border=\"1\" class=\"dataframe\">\n",
       "  <thead>\n",
       "    <tr style=\"text-align: right;\">\n",
       "      <th></th>\n",
       "      <th>Id</th>\n",
       "      <th>job</th>\n",
       "      <th>sector</th>\n",
       "      <th>Month_salary</th>\n",
       "      <th>13_salary</th>\n",
       "      <th>eventual_salary</th>\n",
       "      <th>indemnity</th>\n",
       "      <th>extra_salary</th>\n",
       "      <th>discount_salary</th>\n",
       "      <th>total_salary</th>\n",
       "    </tr>\n",
       "  </thead>\n",
       "  <tbody>\n",
       "    <tr>\n",
       "      <th>0</th>\n",
       "      <td>1</td>\n",
       "      <td>OFICIAL ADMINISTRATIVO</td>\n",
       "      <td>DETRAN</td>\n",
       "      <td>2315.81</td>\n",
       "      <td>0.0</td>\n",
       "      <td>0.00</td>\n",
       "      <td>0.0</td>\n",
       "      <td>73.85</td>\n",
       "      <td>0.0</td>\n",
       "      <td>1929.34</td>\n",
       "    </tr>\n",
       "    <tr>\n",
       "      <th>1</th>\n",
       "      <td>2</td>\n",
       "      <td>SD 2C PM</td>\n",
       "      <td>PM</td>\n",
       "      <td>3034.05</td>\n",
       "      <td>0.0</td>\n",
       "      <td>0.00</td>\n",
       "      <td>0.0</td>\n",
       "      <td>651.82</td>\n",
       "      <td>0.0</td>\n",
       "      <td>2265.96</td>\n",
       "    </tr>\n",
       "    <tr>\n",
       "      <th>2</th>\n",
       "      <td>3</td>\n",
       "      <td>1TEN  PM</td>\n",
       "      <td>PM</td>\n",
       "      <td>8990.98</td>\n",
       "      <td>0.0</td>\n",
       "      <td>0.00</td>\n",
       "      <td>0.0</td>\n",
       "      <td>626.75</td>\n",
       "      <td>0.0</td>\n",
       "      <td>6933.04</td>\n",
       "    </tr>\n",
       "    <tr>\n",
       "      <th>3</th>\n",
       "      <td>4</td>\n",
       "      <td>MAJ   PM</td>\n",
       "      <td>SPPREV</td>\n",
       "      <td>13591.02</td>\n",
       "      <td>0.0</td>\n",
       "      <td>0.00</td>\n",
       "      <td>0.0</td>\n",
       "      <td>0.00</td>\n",
       "      <td>0.0</td>\n",
       "      <td>10568.36</td>\n",
       "    </tr>\n",
       "    <tr>\n",
       "      <th>4</th>\n",
       "      <td>5</td>\n",
       "      <td>AG.TEC. DE ASSIT. A SAUDE</td>\n",
       "      <td>HCFMUSP</td>\n",
       "      <td>4203.67</td>\n",
       "      <td>0.0</td>\n",
       "      <td>0.00</td>\n",
       "      <td>0.0</td>\n",
       "      <td>0.00</td>\n",
       "      <td>0.0</td>\n",
       "      <td>3561.88</td>\n",
       "    </tr>\n",
       "    <tr>\n",
       "      <th>...</th>\n",
       "      <td>...</td>\n",
       "      <td>...</td>\n",
       "      <td>...</td>\n",
       "      <td>...</td>\n",
       "      <td>...</td>\n",
       "      <td>...</td>\n",
       "      <td>...</td>\n",
       "      <td>...</td>\n",
       "      <td>...</td>\n",
       "      <td>...</td>\n",
       "    </tr>\n",
       "    <tr>\n",
       "      <th>994</th>\n",
       "      <td>995</td>\n",
       "      <td>BENEFICIARIO DE SERVIDOR ESTADUAL-IPESP</td>\n",
       "      <td>SPPREV</td>\n",
       "      <td>715.06</td>\n",
       "      <td>0.0</td>\n",
       "      <td>715.06</td>\n",
       "      <td>0.0</td>\n",
       "      <td>0.00</td>\n",
       "      <td>0.0</td>\n",
       "      <td>1430.12</td>\n",
       "    </tr>\n",
       "    <tr>\n",
       "      <th>995</th>\n",
       "      <td>996</td>\n",
       "      <td>1SGT  PM</td>\n",
       "      <td>SPPREV</td>\n",
       "      <td>6475.44</td>\n",
       "      <td>0.0</td>\n",
       "      <td>0.00</td>\n",
       "      <td>0.0</td>\n",
       "      <td>0.00</td>\n",
       "      <td>0.0</td>\n",
       "      <td>3679.13</td>\n",
       "    </tr>\n",
       "    <tr>\n",
       "      <th>996</th>\n",
       "      <td>997</td>\n",
       "      <td>AG.SEG.PENITENC.CLASSE VI</td>\n",
       "      <td>SAP</td>\n",
       "      <td>6008.76</td>\n",
       "      <td>0.0</td>\n",
       "      <td>720.00</td>\n",
       "      <td>0.0</td>\n",
       "      <td>0.00</td>\n",
       "      <td>0.0</td>\n",
       "      <td>4646.82</td>\n",
       "    </tr>\n",
       "    <tr>\n",
       "      <th>997</th>\n",
       "      <td>998</td>\n",
       "      <td>SD 2C PM</td>\n",
       "      <td>PM</td>\n",
       "      <td>3034.05</td>\n",
       "      <td>0.0</td>\n",
       "      <td>0.00</td>\n",
       "      <td>0.0</td>\n",
       "      <td>501.40</td>\n",
       "      <td>0.0</td>\n",
       "      <td>3081.31</td>\n",
       "    </tr>\n",
       "    <tr>\n",
       "      <th>998</th>\n",
       "      <td>999</td>\n",
       "      <td>CABO P.M.</td>\n",
       "      <td>SPPREV</td>\n",
       "      <td>6181.92</td>\n",
       "      <td>0.0</td>\n",
       "      <td>0.00</td>\n",
       "      <td>0.0</td>\n",
       "      <td>0.00</td>\n",
       "      <td>0.0</td>\n",
       "      <td>3931.94</td>\n",
       "    </tr>\n",
       "  </tbody>\n",
       "</table>\n",
       "<p>999 rows × 10 columns</p>\n",
       "</div>"
      ],
      "text/plain": [
       "      Id                                      job   sector  Month_salary  \\\n",
       "0      1                   OFICIAL ADMINISTRATIVO   DETRAN       2315.81   \n",
       "1      2                                 SD 2C PM       PM       3034.05   \n",
       "2      3                                 1TEN  PM       PM       8990.98   \n",
       "3      4                                 MAJ   PM   SPPREV      13591.02   \n",
       "4      5                AG.TEC. DE ASSIT. A SAUDE  HCFMUSP       4203.67   \n",
       "..   ...                                      ...      ...           ...   \n",
       "994  995  BENEFICIARIO DE SERVIDOR ESTADUAL-IPESP   SPPREV        715.06   \n",
       "995  996                                 1SGT  PM   SPPREV       6475.44   \n",
       "996  997                AG.SEG.PENITENC.CLASSE VI      SAP       6008.76   \n",
       "997  998                                 SD 2C PM       PM       3034.05   \n",
       "998  999                                CABO P.M.   SPPREV       6181.92   \n",
       "\n",
       "     13_salary  eventual_salary  indemnity  extra_salary  discount_salary  \\\n",
       "0          0.0             0.00        0.0         73.85              0.0   \n",
       "1          0.0             0.00        0.0        651.82              0.0   \n",
       "2          0.0             0.00        0.0        626.75              0.0   \n",
       "3          0.0             0.00        0.0          0.00              0.0   \n",
       "4          0.0             0.00        0.0          0.00              0.0   \n",
       "..         ...              ...        ...           ...              ...   \n",
       "994        0.0           715.06        0.0          0.00              0.0   \n",
       "995        0.0             0.00        0.0          0.00              0.0   \n",
       "996        0.0           720.00        0.0          0.00              0.0   \n",
       "997        0.0             0.00        0.0        501.40              0.0   \n",
       "998        0.0             0.00        0.0          0.00              0.0   \n",
       "\n",
       "     total_salary  \n",
       "0         1929.34  \n",
       "1         2265.96  \n",
       "2         6933.04  \n",
       "3        10568.36  \n",
       "4         3561.88  \n",
       "..            ...  \n",
       "994       1430.12  \n",
       "995       3679.13  \n",
       "996       4646.82  \n",
       "997       3081.31  \n",
       "998       3931.94  \n",
       "\n",
       "[999 rows x 10 columns]"
      ]
     },
     "execution_count": 97,
     "metadata": {},
     "output_type": "execute_result"
    }
   ],
   "source": [
    "df.drop_duplicates()"
   ]
  },
  {
   "cell_type": "markdown",
   "metadata": {},
   "source": [
    "Agora vamos apagar a coluna id poque não será necessária ao nosso estudo."
   ]
  },
  {
   "cell_type": "code",
   "execution_count": 98,
   "metadata": {},
   "outputs": [],
   "source": [
    "df.drop(columns='Id', inplace=True)"
   ]
  },
  {
   "cell_type": "markdown",
   "metadata": {},
   "source": [
    "É importante fazer uma requisição com as informações principais do dataframe, assim teremos uma ideia dos tipos de dados com que estamos lidando"
   ]
  },
  {
   "cell_type": "code",
   "execution_count": 99,
   "metadata": {},
   "outputs": [
    {
     "name": "stdout",
     "output_type": "stream",
     "text": [
      "<class 'pandas.core.frame.DataFrame'>\n",
      "RangeIndex: 999 entries, 0 to 998\n",
      "Data columns (total 9 columns):\n",
      " #   Column           Non-Null Count  Dtype  \n",
      "---  ------           --------------  -----  \n",
      " 0   job              999 non-null    object \n",
      " 1   sector           999 non-null    object \n",
      " 2   Month_salary     999 non-null    float64\n",
      " 3   13_salary        999 non-null    float64\n",
      " 4   eventual_salary  999 non-null    float64\n",
      " 5   indemnity        999 non-null    float64\n",
      " 6   extra_salary     999 non-null    float64\n",
      " 7   discount_salary  999 non-null    float64\n",
      " 8   total_salary     997 non-null    float64\n",
      "dtypes: float64(7), object(2)\n",
      "memory usage: 70.4+ KB\n"
     ]
    }
   ],
   "source": [
    "df.info()"
   ]
  },
  {
   "cell_type": "code",
   "execution_count": 105,
   "metadata": {},
   "outputs": [
    {
     "data": {
      "text/plain": [
       "sector\n",
       "ADM GERAL      49\n",
       "CDHU            2\n",
       "CEETEPS        13\n",
       "CPTM           12\n",
       "DAEE            5\n",
       "DAESP           1\n",
       "DER             3\n",
       "DETRAN          2\n",
       "EDUCACAO      142\n",
       "FAZENDA         7\n",
       "FDE             1\n",
       "FUND. CASA      7\n",
       "FURP            1\n",
       "HCFMRP          3\n",
       "HCFMUSP        11\n",
       "IMESP           1\n",
       "IPT             1\n",
       "ITESP           2\n",
       "MEIO AMBIE      1\n",
       "METRO          10\n",
       "PGE             1\n",
       "PM             87\n",
       "PROCON          1\n",
       "PRODESP         2\n",
       "SAA             4\n",
       "SABESP         18\n",
       "SAP            42\n",
       "SAUDE          31\n",
       "SDS             1\n",
       "SECRETARIA      2\n",
       "SPPREV        498\n",
       "SSP            35\n",
       "SUCEN           1\n",
       "UNIVESP         1\n",
       "ZOOLOGICO       1\n",
       "Name: job, dtype: int64"
      ]
     },
     "execution_count": 105,
     "metadata": {},
     "output_type": "execute_result"
    }
   ],
   "source": [
    "df.groupby(['sector'])['job'].count()"
   ]
  },
  {
   "cell_type": "markdown",
   "metadata": {},
   "source": [
    "## SALARIOS"
   ]
  },
  {
   "cell_type": "markdown",
   "metadata": {},
   "source": [
    "### Salário mensal"
   ]
  },
  {
   "cell_type": "markdown",
   "metadata": {},
   "source": [
    "A primeira bateria de estudos será sobre o salário mensal, quero descobrir o maior e o menor salário mensal, além das informações sobre o(s) cargo(s) correspondentes da pesquisa"
   ]
  },
  {
   "cell_type": "code",
   "execution_count": 100,
   "metadata": {},
   "outputs": [
    {
     "data": {
      "text/plain": [
       "64854.79"
      ]
     },
     "execution_count": 100,
     "metadata": {},
     "output_type": "execute_result"
    }
   ],
   "source": [
    "df['Month_salary'].max()"
   ]
  },
  {
   "cell_type": "code",
   "execution_count": 101,
   "metadata": {},
   "outputs": [
    {
     "data": {
      "text/html": [
       "<div>\n",
       "<style scoped>\n",
       "    .dataframe tbody tr th:only-of-type {\n",
       "        vertical-align: middle;\n",
       "    }\n",
       "\n",
       "    .dataframe tbody tr th {\n",
       "        vertical-align: top;\n",
       "    }\n",
       "\n",
       "    .dataframe thead th {\n",
       "        text-align: right;\n",
       "    }\n",
       "</style>\n",
       "<table border=\"1\" class=\"dataframe\">\n",
       "  <thead>\n",
       "    <tr style=\"text-align: right;\">\n",
       "      <th></th>\n",
       "      <th>job</th>\n",
       "      <th>sector</th>\n",
       "      <th>Month_salary</th>\n",
       "      <th>13_salary</th>\n",
       "      <th>eventual_salary</th>\n",
       "      <th>indemnity</th>\n",
       "      <th>extra_salary</th>\n",
       "      <th>discount_salary</th>\n",
       "      <th>total_salary</th>\n",
       "    </tr>\n",
       "  </thead>\n",
       "  <tbody>\n",
       "    <tr>\n",
       "      <th>305</th>\n",
       "      <td>ARQUITETO VI</td>\n",
       "      <td>DAEE</td>\n",
       "      <td>64854.79</td>\n",
       "      <td>0.0</td>\n",
       "      <td>0.0</td>\n",
       "      <td>0.0</td>\n",
       "      <td>0.0</td>\n",
       "      <td>-43223.74</td>\n",
       "      <td>16287.81</td>\n",
       "    </tr>\n",
       "  </tbody>\n",
       "</table>\n",
       "</div>"
      ],
      "text/plain": [
       "              job sector  Month_salary  13_salary  eventual_salary  indemnity  \\\n",
       "305  ARQUITETO VI   DAEE      64854.79        0.0              0.0        0.0   \n",
       "\n",
       "     extra_salary  discount_salary  total_salary  \n",
       "305           0.0        -43223.74      16287.81  "
      ]
     },
     "execution_count": 101,
     "metadata": {},
     "output_type": "execute_result"
    }
   ],
   "source": [
    "df[df['Month_salary'] == df['Month_salary'].max()]"
   ]
  },
  {
   "cell_type": "code",
   "execution_count": 102,
   "metadata": {},
   "outputs": [
    {
     "data": {
      "text/plain": [
       "0.0"
      ]
     },
     "execution_count": 102,
     "metadata": {},
     "output_type": "execute_result"
    }
   ],
   "source": [
    "df['Month_salary'].min()"
   ]
  },
  {
   "cell_type": "code",
   "execution_count": 103,
   "metadata": {},
   "outputs": [
    {
     "data": {
      "text/html": [
       "<div>\n",
       "<style scoped>\n",
       "    .dataframe tbody tr th:only-of-type {\n",
       "        vertical-align: middle;\n",
       "    }\n",
       "\n",
       "    .dataframe tbody tr th {\n",
       "        vertical-align: top;\n",
       "    }\n",
       "\n",
       "    .dataframe thead th {\n",
       "        text-align: right;\n",
       "    }\n",
       "</style>\n",
       "<table border=\"1\" class=\"dataframe\">\n",
       "  <thead>\n",
       "    <tr style=\"text-align: right;\">\n",
       "      <th></th>\n",
       "      <th>job</th>\n",
       "      <th>sector</th>\n",
       "      <th>Month_salary</th>\n",
       "      <th>13_salary</th>\n",
       "      <th>eventual_salary</th>\n",
       "      <th>indemnity</th>\n",
       "      <th>extra_salary</th>\n",
       "      <th>discount_salary</th>\n",
       "      <th>total_salary</th>\n",
       "    </tr>\n",
       "  </thead>\n",
       "  <tbody>\n",
       "    <tr>\n",
       "      <th>191</th>\n",
       "      <td>MEDICO I</td>\n",
       "      <td>SAUDE</td>\n",
       "      <td>0.0</td>\n",
       "      <td>0.00</td>\n",
       "      <td>0.00</td>\n",
       "      <td>0.0</td>\n",
       "      <td>0.0</td>\n",
       "      <td>0.0</td>\n",
       "      <td>0.0</td>\n",
       "    </tr>\n",
       "    <tr>\n",
       "      <th>346</th>\n",
       "      <td>AGENTE DE AP SOCIOEDUCAT II</td>\n",
       "      <td>FUND. CASA</td>\n",
       "      <td>0.0</td>\n",
       "      <td>5059.88</td>\n",
       "      <td>202.37</td>\n",
       "      <td>0.0</td>\n",
       "      <td>0.0</td>\n",
       "      <td>0.0</td>\n",
       "      <td>0.0</td>\n",
       "    </tr>\n",
       "  </tbody>\n",
       "</table>\n",
       "</div>"
      ],
      "text/plain": [
       "                             job      sector  Month_salary  13_salary  \\\n",
       "191                     MEDICO I       SAUDE           0.0       0.00   \n",
       "346  AGENTE DE AP SOCIOEDUCAT II  FUND. CASA           0.0    5059.88   \n",
       "\n",
       "     eventual_salary  indemnity  extra_salary  discount_salary  total_salary  \n",
       "191             0.00        0.0           0.0              0.0           0.0  \n",
       "346           202.37        0.0           0.0              0.0           0.0  "
      ]
     },
     "execution_count": 103,
     "metadata": {},
     "output_type": "execute_result"
    }
   ],
   "source": [
    "df[df['Month_salary'] == df['Month_salary'].min()]\n"
   ]
  },
  {
   "cell_type": "markdown",
   "metadata": {},
   "source": [
    "Agora veremos os 5 maiores salários mensais do estado."
   ]
  },
  {
   "cell_type": "code",
   "execution_count": 104,
   "metadata": {},
   "outputs": [
    {
     "data": {
      "text/html": [
       "<div>\n",
       "<style scoped>\n",
       "    .dataframe tbody tr th:only-of-type {\n",
       "        vertical-align: middle;\n",
       "    }\n",
       "\n",
       "    .dataframe tbody tr th {\n",
       "        vertical-align: top;\n",
       "    }\n",
       "\n",
       "    .dataframe thead th {\n",
       "        text-align: right;\n",
       "    }\n",
       "</style>\n",
       "<table border=\"1\" class=\"dataframe\">\n",
       "  <thead>\n",
       "    <tr style=\"text-align: right;\">\n",
       "      <th></th>\n",
       "      <th>job</th>\n",
       "      <th>sector</th>\n",
       "      <th>Month_salary</th>\n",
       "      <th>13_salary</th>\n",
       "      <th>eventual_salary</th>\n",
       "      <th>indemnity</th>\n",
       "      <th>extra_salary</th>\n",
       "      <th>discount_salary</th>\n",
       "      <th>total_salary</th>\n",
       "    </tr>\n",
       "  </thead>\n",
       "  <tbody>\n",
       "    <tr>\n",
       "      <th>305</th>\n",
       "      <td>ARQUITETO VI</td>\n",
       "      <td>DAEE</td>\n",
       "      <td>64854.79</td>\n",
       "      <td>0.00</td>\n",
       "      <td>0.00</td>\n",
       "      <td>0.0</td>\n",
       "      <td>0.00</td>\n",
       "      <td>-43223.74</td>\n",
       "      <td>16287.81</td>\n",
       "    </tr>\n",
       "    <tr>\n",
       "      <th>758</th>\n",
       "      <td>AGENTE FISCAL DE RENDAS</td>\n",
       "      <td>SPPREV</td>\n",
       "      <td>43469.76</td>\n",
       "      <td>10815.52</td>\n",
       "      <td>13833.90</td>\n",
       "      <td>0.0</td>\n",
       "      <td>0.00</td>\n",
       "      <td>-21838.71</td>\n",
       "      <td>32339.74</td>\n",
       "    </tr>\n",
       "    <tr>\n",
       "      <th>691</th>\n",
       "      <td>AGENTE FISCAL DE RENDAS</td>\n",
       "      <td>FAZENDA</td>\n",
       "      <td>41646.79</td>\n",
       "      <td>0.00</td>\n",
       "      <td>739.11</td>\n",
       "      <td>0.0</td>\n",
       "      <td>2460.71</td>\n",
       "      <td>-20015.74</td>\n",
       "      <td>15236.64</td>\n",
       "    </tr>\n",
       "    <tr>\n",
       "      <th>675</th>\n",
       "      <td>AGENTE FISCAL DE RENDAS</td>\n",
       "      <td>SPPREV</td>\n",
       "      <td>37764.37</td>\n",
       "      <td>0.00</td>\n",
       "      <td>15740.35</td>\n",
       "      <td>0.0</td>\n",
       "      <td>0.00</td>\n",
       "      <td>-16133.32</td>\n",
       "      <td>20824.74</td>\n",
       "    </tr>\n",
       "    <tr>\n",
       "      <th>845</th>\n",
       "      <td>AGENTE FISCAL DE RENDAS</td>\n",
       "      <td>SPPREV</td>\n",
       "      <td>36609.31</td>\n",
       "      <td>0.00</td>\n",
       "      <td>13211.87</td>\n",
       "      <td>0.0</td>\n",
       "      <td>0.00</td>\n",
       "      <td>-14978.26</td>\n",
       "      <td>32107.09</td>\n",
       "    </tr>\n",
       "  </tbody>\n",
       "</table>\n",
       "</div>"
      ],
      "text/plain": [
       "                         job   sector  Month_salary  13_salary  \\\n",
       "305             ARQUITETO VI     DAEE      64854.79       0.00   \n",
       "758  AGENTE FISCAL DE RENDAS   SPPREV      43469.76   10815.52   \n",
       "691  AGENTE FISCAL DE RENDAS  FAZENDA      41646.79       0.00   \n",
       "675  AGENTE FISCAL DE RENDAS   SPPREV      37764.37       0.00   \n",
       "845  AGENTE FISCAL DE RENDAS   SPPREV      36609.31       0.00   \n",
       "\n",
       "     eventual_salary  indemnity  extra_salary  discount_salary  total_salary  \n",
       "305             0.00        0.0          0.00        -43223.74      16287.81  \n",
       "758         13833.90        0.0          0.00        -21838.71      32339.74  \n",
       "691           739.11        0.0       2460.71        -20015.74      15236.64  \n",
       "675         15740.35        0.0          0.00        -16133.32      20824.74  \n",
       "845         13211.87        0.0          0.00        -14978.26      32107.09  "
      ]
     },
     "execution_count": 104,
     "metadata": {},
     "output_type": "execute_result"
    }
   ],
   "source": [
    "df.sort_values(by='Month_salary',ascending=False).head(5)"
   ]
  },
  {
   "cell_type": "code",
   "execution_count": 136,
   "metadata": {},
   "outputs": [
    {
     "data": {
      "text/plain": [
       "4726.6824824824835"
      ]
     },
     "execution_count": 136,
     "metadata": {},
     "output_type": "execute_result"
    }
   ],
   "source": [
    "df['Month_salary'].mean()"
   ]
  },
  {
   "cell_type": "code",
   "execution_count": 147,
   "metadata": {},
   "outputs": [
    {
     "data": {
      "text/plain": [
       "Text(0.5, 0, 'Salário mensal')"
      ]
     },
     "execution_count": 147,
     "metadata": {},
     "output_type": "execute_result"
    },
    {
     "data": {
      "image/png": "[encoded data removed]",
      "text/plain": [
       "<Figure size 432x288 with 1 Axes>"
      ]
     },
     "metadata": {
      "needs_background": "light"
     },
     "output_type": "display_data"
    }
   ],
   "source": [
    "sns.violinplot(x=df['Month_salary'])\n",
    "plt.title('Distribuição do salário mensal')\n",
    "plt.xlabel('Salário mensal')"
   ]
  },
  {
   "cell_type": "markdown",
   "metadata": {},
   "source": [
    "### Salário Total"
   ]
  },
  {
   "cell_type": "markdown",
   "metadata": {},
   "source": [
    "Agora partiremos para o salário total, ou seja, o salário final do servidor, bem como seu cargo."
   ]
  },
  {
   "cell_type": "code",
   "execution_count": 42,
   "metadata": {},
   "outputs": [
    {
     "data": {
      "text/plain": [
       "33574.49"
      ]
     },
     "execution_count": 42,
     "metadata": {},
     "output_type": "execute_result"
    }
   ],
   "source": [
    "df['total_salary'].max()"
   ]
  },
  {
   "cell_type": "code",
   "execution_count": 44,
   "metadata": {},
   "outputs": [
    {
     "data": {
      "text/html": [
       "<div>\n",
       "<style scoped>\n",
       "    .dataframe tbody tr th:only-of-type {\n",
       "        vertical-align: middle;\n",
       "    }\n",
       "\n",
       "    .dataframe tbody tr th {\n",
       "        vertical-align: top;\n",
       "    }\n",
       "\n",
       "    .dataframe thead th {\n",
       "        text-align: right;\n",
       "    }\n",
       "</style>\n",
       "<table border=\"1\" class=\"dataframe\">\n",
       "  <thead>\n",
       "    <tr style=\"text-align: right;\">\n",
       "      <th></th>\n",
       "      <th>Id</th>\n",
       "      <th>job</th>\n",
       "      <th>sector</th>\n",
       "      <th>Month_salary</th>\n",
       "      <th>13_salary</th>\n",
       "      <th>eventual_salary</th>\n",
       "      <th>indemnity</th>\n",
       "      <th>extra_salary</th>\n",
       "      <th>discount_salary</th>\n",
       "      <th>total_salary</th>\n",
       "    </tr>\n",
       "  </thead>\n",
       "  <tbody>\n",
       "    <tr>\n",
       "      <th>652</th>\n",
       "      <td>653</td>\n",
       "      <td>MAJ   PM</td>\n",
       "      <td>PM</td>\n",
       "      <td>14061.47</td>\n",
       "      <td>11172.56</td>\n",
       "      <td>-49.72</td>\n",
       "      <td>13812.85</td>\n",
       "      <td>401.12</td>\n",
       "      <td>0.0</td>\n",
       "      <td>33574.49</td>\n",
       "    </tr>\n",
       "  </tbody>\n",
       "</table>\n",
       "</div>"
      ],
      "text/plain": [
       "      Id       job sector  Month_salary  13_salary  eventual_salary  \\\n",
       "652  653  MAJ   PM     PM      14061.47   11172.56           -49.72   \n",
       "\n",
       "     indemnity  extra_salary  discount_salary  total_salary  \n",
       "652   13812.85        401.12              0.0      33574.49  "
      ]
     },
     "execution_count": 44,
     "metadata": {},
     "output_type": "execute_result"
    }
   ],
   "source": [
    "df[df['total_salary'] == df['total_salary'].max()]"
   ]
  },
  {
   "cell_type": "code",
   "execution_count": 59,
   "metadata": {},
   "outputs": [
    {
     "data": {
      "text/plain": [
       "0.0"
      ]
     },
     "execution_count": 59,
     "metadata": {},
     "output_type": "execute_result"
    }
   ],
   "source": [
    "df['total_salary'].min()"
   ]
  },
  {
   "cell_type": "code",
   "execution_count": 60,
   "metadata": {},
   "outputs": [
    {
     "data": {
      "text/html": [
       "<div>\n",
       "<style scoped>\n",
       "    .dataframe tbody tr th:only-of-type {\n",
       "        vertical-align: middle;\n",
       "    }\n",
       "\n",
       "    .dataframe tbody tr th {\n",
       "        vertical-align: top;\n",
       "    }\n",
       "\n",
       "    .dataframe thead th {\n",
       "        text-align: right;\n",
       "    }\n",
       "</style>\n",
       "<table border=\"1\" class=\"dataframe\">\n",
       "  <thead>\n",
       "    <tr style=\"text-align: right;\">\n",
       "      <th></th>\n",
       "      <th>job</th>\n",
       "      <th>sector</th>\n",
       "      <th>Month_salary</th>\n",
       "      <th>13_salary</th>\n",
       "      <th>eventual_salary</th>\n",
       "      <th>indemnity</th>\n",
       "      <th>extra_salary</th>\n",
       "      <th>discount_salary</th>\n",
       "      <th>total_salary</th>\n",
       "    </tr>\n",
       "  </thead>\n",
       "  <tbody>\n",
       "    <tr>\n",
       "      <th>98</th>\n",
       "      <td>COMPLEMENTACAO APOSENTADORIA</td>\n",
       "      <td>DAEE</td>\n",
       "      <td>1226.98</td>\n",
       "      <td>0.00</td>\n",
       "      <td>0.00</td>\n",
       "      <td>0.0</td>\n",
       "      <td>0.0</td>\n",
       "      <td>0.0</td>\n",
       "      <td>0.0</td>\n",
       "    </tr>\n",
       "    <tr>\n",
       "      <th>179</th>\n",
       "      <td>TECNICO EM GESTAO 09</td>\n",
       "      <td>SABESP</td>\n",
       "      <td>1879.29</td>\n",
       "      <td>0.00</td>\n",
       "      <td>2435.63</td>\n",
       "      <td>0.0</td>\n",
       "      <td>0.0</td>\n",
       "      <td>0.0</td>\n",
       "      <td>0.0</td>\n",
       "    </tr>\n",
       "    <tr>\n",
       "      <th>191</th>\n",
       "      <td>MEDICO I</td>\n",
       "      <td>SAUDE</td>\n",
       "      <td>0.00</td>\n",
       "      <td>0.00</td>\n",
       "      <td>0.00</td>\n",
       "      <td>0.0</td>\n",
       "      <td>0.0</td>\n",
       "      <td>0.0</td>\n",
       "      <td>0.0</td>\n",
       "    </tr>\n",
       "    <tr>\n",
       "      <th>346</th>\n",
       "      <td>AGENTE DE AP SOCIOEDUCAT II</td>\n",
       "      <td>FUND. CASA</td>\n",
       "      <td>0.00</td>\n",
       "      <td>5059.88</td>\n",
       "      <td>202.37</td>\n",
       "      <td>0.0</td>\n",
       "      <td>0.0</td>\n",
       "      <td>0.0</td>\n",
       "      <td>0.0</td>\n",
       "    </tr>\n",
       "    <tr>\n",
       "      <th>596</th>\n",
       "      <td>AUXILIAR DE ENFERMAGEM</td>\n",
       "      <td>SAUDE</td>\n",
       "      <td>1289.97</td>\n",
       "      <td>0.00</td>\n",
       "      <td>167.68</td>\n",
       "      <td>0.0</td>\n",
       "      <td>0.0</td>\n",
       "      <td>0.0</td>\n",
       "      <td>0.0</td>\n",
       "    </tr>\n",
       "  </tbody>\n",
       "</table>\n",
       "</div>"
      ],
      "text/plain": [
       "                              job      sector  Month_salary  13_salary  \\\n",
       "98   COMPLEMENTACAO APOSENTADORIA        DAEE       1226.98       0.00   \n",
       "179          TECNICO EM GESTAO 09      SABESP       1879.29       0.00   \n",
       "191                      MEDICO I       SAUDE          0.00       0.00   \n",
       "346   AGENTE DE AP SOCIOEDUCAT II  FUND. CASA          0.00    5059.88   \n",
       "596        AUXILIAR DE ENFERMAGEM       SAUDE       1289.97       0.00   \n",
       "\n",
       "     eventual_salary  indemnity  extra_salary  discount_salary  total_salary  \n",
       "98              0.00        0.0           0.0              0.0           0.0  \n",
       "179          2435.63        0.0           0.0              0.0           0.0  \n",
       "191             0.00        0.0           0.0              0.0           0.0  \n",
       "346           202.37        0.0           0.0              0.0           0.0  \n",
       "596           167.68        0.0           0.0              0.0           0.0  "
      ]
     },
     "execution_count": 60,
     "metadata": {},
     "output_type": "execute_result"
    }
   ],
   "source": [
    "df[df['total_salary'] == df['total_salary'].min()]"
   ]
  },
  {
   "cell_type": "code",
   "execution_count": 71,
   "metadata": {},
   "outputs": [
    {
     "data": {
      "text/html": [
       "<div>\n",
       "<style scoped>\n",
       "    .dataframe tbody tr th:only-of-type {\n",
       "        vertical-align: middle;\n",
       "    }\n",
       "\n",
       "    .dataframe tbody tr th {\n",
       "        vertical-align: top;\n",
       "    }\n",
       "\n",
       "    .dataframe thead th {\n",
       "        text-align: right;\n",
       "    }\n",
       "</style>\n",
       "<table border=\"1\" class=\"dataframe\">\n",
       "  <thead>\n",
       "    <tr style=\"text-align: right;\">\n",
       "      <th></th>\n",
       "      <th>job</th>\n",
       "      <th>sector</th>\n",
       "      <th>Month_salary</th>\n",
       "      <th>13_salary</th>\n",
       "      <th>eventual_salary</th>\n",
       "      <th>indemnity</th>\n",
       "      <th>extra_salary</th>\n",
       "      <th>discount_salary</th>\n",
       "      <th>total_salary</th>\n",
       "    </tr>\n",
       "  </thead>\n",
       "  <tbody>\n",
       "    <tr>\n",
       "      <th>652</th>\n",
       "      <td>MAJ   PM</td>\n",
       "      <td>PM</td>\n",
       "      <td>14061.47</td>\n",
       "      <td>11172.56</td>\n",
       "      <td>-49.72</td>\n",
       "      <td>13812.85</td>\n",
       "      <td>401.12</td>\n",
       "      <td>0.00</td>\n",
       "      <td>33574.49</td>\n",
       "    </tr>\n",
       "    <tr>\n",
       "      <th>758</th>\n",
       "      <td>AGENTE FISCAL DE RENDAS</td>\n",
       "      <td>SPPREV</td>\n",
       "      <td>43469.76</td>\n",
       "      <td>10815.52</td>\n",
       "      <td>13833.90</td>\n",
       "      <td>0.00</td>\n",
       "      <td>0.00</td>\n",
       "      <td>-21838.71</td>\n",
       "      <td>32339.74</td>\n",
       "    </tr>\n",
       "    <tr>\n",
       "      <th>845</th>\n",
       "      <td>AGENTE FISCAL DE RENDAS</td>\n",
       "      <td>SPPREV</td>\n",
       "      <td>36609.31</td>\n",
       "      <td>0.00</td>\n",
       "      <td>13211.87</td>\n",
       "      <td>0.00</td>\n",
       "      <td>0.00</td>\n",
       "      <td>-14978.26</td>\n",
       "      <td>32107.09</td>\n",
       "    </tr>\n",
       "    <tr>\n",
       "      <th>892</th>\n",
       "      <td>AGENTE FISCAL DE RENDAS</td>\n",
       "      <td>SPPREV</td>\n",
       "      <td>29982.08</td>\n",
       "      <td>10815.52</td>\n",
       "      <td>10167.51</td>\n",
       "      <td>0.00</td>\n",
       "      <td>0.00</td>\n",
       "      <td>-8351.03</td>\n",
       "      <td>29436.75</td>\n",
       "    </tr>\n",
       "    <tr>\n",
       "      <th>72</th>\n",
       "      <td>AGENTE FISCAL DE RENDAS</td>\n",
       "      <td>SPPREV</td>\n",
       "      <td>35390.44</td>\n",
       "      <td>0.00</td>\n",
       "      <td>11559.89</td>\n",
       "      <td>0.00</td>\n",
       "      <td>0.00</td>\n",
       "      <td>-13759.39</td>\n",
       "      <td>23459.08</td>\n",
       "    </tr>\n",
       "  </tbody>\n",
       "</table>\n",
       "</div>"
      ],
      "text/plain": [
       "                         job  sector  Month_salary  13_salary  \\\n",
       "652                 MAJ   PM      PM      14061.47   11172.56   \n",
       "758  AGENTE FISCAL DE RENDAS  SPPREV      43469.76   10815.52   \n",
       "845  AGENTE FISCAL DE RENDAS  SPPREV      36609.31       0.00   \n",
       "892  AGENTE FISCAL DE RENDAS  SPPREV      29982.08   10815.52   \n",
       "72   AGENTE FISCAL DE RENDAS  SPPREV      35390.44       0.00   \n",
       "\n",
       "     eventual_salary  indemnity  extra_salary  discount_salary  total_salary  \n",
       "652           -49.72   13812.85        401.12             0.00      33574.49  \n",
       "758         13833.90       0.00          0.00        -21838.71      32339.74  \n",
       "845         13211.87       0.00          0.00        -14978.26      32107.09  \n",
       "892         10167.51       0.00          0.00         -8351.03      29436.75  \n",
       "72          11559.89       0.00          0.00        -13759.39      23459.08  "
      ]
     },
     "execution_count": 71,
     "metadata": {},
     "output_type": "execute_result"
    }
   ],
   "source": [
    "df.sort_values(by='total_salary',ascending=False).head(5)"
   ]
  },
  {
   "cell_type": "code",
   "execution_count": 113,
   "metadata": {},
   "outputs": [
    {
     "data": {
      "text/plain": [
       "3693.339558676028"
      ]
     },
     "execution_count": 113,
     "metadata": {},
     "output_type": "execute_result"
    }
   ],
   "source": [
    "df['total_salary'].mean()"
   ]
  },
  {
   "cell_type": "code",
   "execution_count": 148,
   "metadata": {},
   "outputs": [
    {
     "data": {
      "text/plain": [
       "Text(0.5, 0, 'Salário total')"
      ]
     },
     "execution_count": 148,
     "metadata": {},
     "output_type": "execute_result"
    },
    {
     "data": {
      "image/png": "[encoded data removed]",
      "text/plain": [
       "<Figure size 432x288 with 1 Axes>"
      ]
     },
     "metadata": {
      "needs_background": "light"
     },
     "output_type": "display_data"
    }
   ],
   "source": [
    "sns.violinplot(x=df['total_salary'])\n",
    "plt.title('Distribuição do salário total')\n",
    "plt.xlabel('Salário total')"
   ]
  },
  {
   "cell_type": "markdown",
   "metadata": {},
   "source": [
    "Ainda dentro dos salários, traremos os maiores e menores pagamentos extras, um a um, sendo eles 13º Salário, Salário eventual, salário extra, indenizações e descontos."
   ]
  },
  {
   "cell_type": "code",
   "execution_count": 62,
   "metadata": {},
   "outputs": [
    {
     "data": {
      "text/plain": [
       "20800.19"
      ]
     },
     "execution_count": 62,
     "metadata": {},
     "output_type": "execute_result"
    }
   ],
   "source": [
    "df['13_salary'].max()"
   ]
  },
  {
   "cell_type": "code",
   "execution_count": 64,
   "metadata": {},
   "outputs": [
    {
     "data": {
      "text/html": [
       "<div>\n",
       "<style scoped>\n",
       "    .dataframe tbody tr th:only-of-type {\n",
       "        vertical-align: middle;\n",
       "    }\n",
       "\n",
       "    .dataframe tbody tr th {\n",
       "        vertical-align: top;\n",
       "    }\n",
       "\n",
       "    .dataframe thead th {\n",
       "        text-align: right;\n",
       "    }\n",
       "</style>\n",
       "<table border=\"1\" class=\"dataframe\">\n",
       "  <thead>\n",
       "    <tr style=\"text-align: right;\">\n",
       "      <th></th>\n",
       "      <th>job</th>\n",
       "      <th>sector</th>\n",
       "      <th>Month_salary</th>\n",
       "      <th>13_salary</th>\n",
       "      <th>eventual_salary</th>\n",
       "      <th>indemnity</th>\n",
       "      <th>extra_salary</th>\n",
       "      <th>discount_salary</th>\n",
       "      <th>total_salary</th>\n",
       "    </tr>\n",
       "  </thead>\n",
       "  <tbody>\n",
       "    <tr>\n",
       "      <th>864</th>\n",
       "      <td>ENGENHEIRO</td>\n",
       "      <td>METRO</td>\n",
       "      <td>8614.42</td>\n",
       "      <td>20800.19</td>\n",
       "      <td>1281.71</td>\n",
       "      <td>0.0</td>\n",
       "      <td>0.0</td>\n",
       "      <td>0.0</td>\n",
       "      <td>21262.72</td>\n",
       "    </tr>\n",
       "  </tbody>\n",
       "</table>\n",
       "</div>"
      ],
      "text/plain": [
       "            job sector  Month_salary  13_salary  eventual_salary  indemnity  \\\n",
       "864  ENGENHEIRO  METRO       8614.42   20800.19          1281.71        0.0   \n",
       "\n",
       "     extra_salary  discount_salary  total_salary  \n",
       "864           0.0              0.0      21262.72  "
      ]
     },
     "execution_count": 64,
     "metadata": {},
     "output_type": "execute_result"
    }
   ],
   "source": [
    "df[df['13_salary'] == df['13_salary'].max()]"
   ]
  },
  {
   "cell_type": "markdown",
   "metadata": {},
   "source": [
    "A maior indenização:"
   ]
  },
  {
   "cell_type": "code",
   "execution_count": 106,
   "metadata": {},
   "outputs": [
    {
     "data": {
      "text/plain": [
       "13812.85"
      ]
     },
     "execution_count": 106,
     "metadata": {},
     "output_type": "execute_result"
    }
   ],
   "source": [
    "df['indemnity'].max()"
   ]
  },
  {
   "cell_type": "markdown",
   "metadata": {},
   "source": [
    "Com um simples comando podemos ver que o estado de são paulo pagou **R$ 3 682 259,54** (mais de 3 milhões de reais em salários)"
   ]
  },
  {
   "cell_type": "code",
   "execution_count": 140,
   "metadata": {},
   "outputs": [
    {
     "data": {
      "text/plain": [
       "3682259.54"
      ]
     },
     "execution_count": 140,
     "metadata": {},
     "output_type": "execute_result"
    }
   ],
   "source": [
    "df['total_salary'].sum()"
   ]
  },
  {
   "cell_type": "code",
   "execution_count": 161,
   "metadata": {},
   "outputs": [
    {
     "data": {
      "text/plain": [
       "Text(0, 0.5, 'Setor')"
      ]
     },
     "execution_count": 161,
     "metadata": {},
     "output_type": "execute_result"
    },
    {
     "data": {
      "image/png": "[encoded data removed]",
      "text/plain": [
       "<Figure size 1080x1440 with 1 Axes>"
      ]
     },
     "metadata": {
      "needs_background": "light"
     },
     "output_type": "display_data"
    }
   ],
   "source": [
    "plt.figure(figsize=(15, 20))\n",
    "sns.scatterplot(x='total_salary', y='sector', data=df)\n",
    "plt.title('Relação de setores e salários totais')\n",
    "plt.xlabel('Salario total')\n",
    "plt.ylabel('Setor')"
   ]
  }
 ],
 "metadata": {
  "interpreter": {
   "hash": "d225ef068b728d8e49a1c2030954afd4b67d98d094d362098b681dadac24fc32"
  },
  "kernelspec": {
   "display_name": "Python 3.10.2 64-bit (windows store)",
   "language": "python",
   "name": "python3"
  },
  "language_info": {
   "codemirror_mode": {
    "name": "ipython",
    "version": 3
   },
   "file_extension": ".py",
   "mimetype": "text/x-python",
   "name": "python",
   "nbconvert_exporter": "python",
   "pygments_lexer": "ipython3",
   "version": "3.10.2"
  },
  "orig_nbformat": 4
 },
 "nbformat": 4,
 "nbformat_minor": 2
}
